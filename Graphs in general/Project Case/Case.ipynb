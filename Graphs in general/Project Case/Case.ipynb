{
 "cells": [
  {
   "cell_type": "code",
   "execution_count": 1,
   "source": [
    "import numpy as np\n",
    "from matplotlib import pyplot as plt\n",
    "\n",
    "survey_responses = ['Ceballos', 'Kerrigan', 'Ceballos', 'Ceballos', 'Ceballos','Kerrigan', 'Kerrigan', 'Ceballos', 'Ceballos', 'Ceballos', \n",
    "'Kerrigan', 'Kerrigan', 'Ceballos', 'Ceballos', 'Kerrigan', 'Kerrigan', 'Ceballos', 'Ceballos', 'Kerrigan', 'Kerrigan', 'Kerrigan', 'Kerrigan', 'Kerrigan', 'Kerrigan', 'Ceballos', 'Ceballos', 'Ceballos', 'Ceballos', 'Ceballos', 'Ceballos',\n",
    "'Kerrigan', 'Kerrigan', 'Ceballos', 'Ceballos', 'Ceballos', 'Kerrigan', 'Kerrigan', 'Ceballos', 'Ceballos', 'Kerrigan', 'Kerrigan', 'Ceballos', 'Ceballos', 'Kerrigan', 'Kerrigan', 'Kerrigan', 'Kerrigan', 'Kerrigan', 'Kerrigan', 'Ceballos',\n",
    "'Kerrigan', 'Kerrigan', 'Ceballos', 'Ceballos', 'Ceballos', 'Kerrigan', 'Kerrigan', 'Ceballos', 'Ceballos', 'Kerrigan', 'Kerrigan', 'Ceballos', 'Ceballos', 'Kerrigan', 'Kerrigan', 'Kerrigan', 'Kerrigan', 'Kerrigan', 'Kerrigan', 'Ceballos']\n",
    "#Total of Ceballos responses on the actual survey\n",
    "total_ceballos = sum([1 for n in survey_responses if n == 'Ceballos'])\n",
    "# print(total_ceballos)\n",
    "#Total of responses\n",
    "survey_length = float(len(survey_responses))\n",
    "# print(survey_length)\n",
    "#Percentage of Ceballos votes from the total surveyed\n",
    "percentage_ceballos = 100 * total_ceballos/survey_length\n",
    "\n",
    "#This is the vote percentage of Ceballos from surveyed people \n",
    "# print(percentage_ceballos)\n",
    "\n",
    "#1st Simulation of possible results with the real outcome (probability of p=54% (result from the real election) in a size of 10k surveyed)\n",
    "possible_surveys = np.random.binomial(survey_length, 0.54, size =10000)/survey_length\n",
    "# print(possible_surveys)\n",
    "#Histogram plot of the possible_surveys from 0 to 1 in 20 divisions\n",
    "plt.hist(possible_surveys, range=(0, 1), bins=20)\n",
    "plt.show()\n",
    "\n",
    "#From the simulated outcome we'll check the percentage of people that got the incorrect results from the total of possible surveys. I did a test trying to prove this version from the video tutorial version and its the same.\n",
    "ceballos_loss_surveys = float(np.mean(possible_surveys < 0.5))\n",
    "print(ceballos_loss_surveys)\n",
    "\n",
    "large_survey = np.random.binomial(float(7000), 0.54, size= 10000)/float(7000)\n",
    "# print('\\n')\n",
    "print(large_survey)\n",
    "ceballos_loss_new = np.mean(large_survey < 0.5)\n",
    "print(ceballos_loss_new)"
   ],
   "outputs": [
    {
     "output_type": "display_data",
     "data": {
      "image/png": "[encoded data removed]",
      "text/plain": [
       "<Figure size 432x288 with 1 Axes>"
      ]
     },
     "metadata": {
      "needs_background": "light"
     }
    },
    {
     "output_type": "stream",
     "name": "stdout",
     "text": [
      "0.2119\n",
      "[0.53985714 0.533      0.54028571 ... 0.54085714 0.53614286 0.54      ]\n",
      "0.0\n"
     ]
    }
   ],
   "metadata": {}
  }
 ],
 "nbformat": 4,
 "nbformat_minor": 2,
 "metadata": {
  "language_info": {
   "codemirror_mode": {
    "name": "ipython",
    "version": 3
   },
   "file_extension": ".py",
   "mimetype": "text/x-python",
   "name": "python",
   "nbconvert_exporter": "python",
   "pygments_lexer": "ipython3",
   "version": 3
  },
  "orig_nbformat": 4
 }
}