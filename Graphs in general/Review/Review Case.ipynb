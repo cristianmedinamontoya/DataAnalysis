{
 "cells": [
  {
   "cell_type": "code",
   "execution_count": 1,
   "source": [
    "import numpy as np\n",
    "from matplotlib import pyplot as plt\n",
    "\n",
    "sunflowers = np.genfromtxt('sunflower_heights.csv', delimiter=',')\n",
    "\n",
    "# Calculate mean and std of sunflowers here:\n",
    "\n",
    "sunflowers_mean = np.mean(sunflowers)\n",
    "sunflowers_std = np.std(sunflowers)\n",
    "\n",
    "# Calculate sunflowers_normal here:\n",
    "\n",
    "sunflowers_normal = np.random.normal(sunflowers_mean, sunflowers_std, size = 5000)\n",
    "\n",
    "plt.hist(sunflowers, range=(11, 15), histtype='step', linewidth=2, label='observed', density=True)\n",
    "\n",
    "plt.hist(sunflowers_normal, range=(11, 15), histtype='step', linewidth=2, label='normal', density=True)\n",
    "plt.legend()\n",
    "plt.show()\n",
    "\n",
    "# Calculate probabilities here:\n",
    "experiments = np.random.binomial(200, 0.1, size=5000)\n",
    "prob = np.mean(experiments < 20)\n",
    "print(prob)"
   ],
   "outputs": [
    {
     "output_type": "display_data",
     "data": {
      "image/png": "[encoded data removed]",
      "text/plain": [
       "<Figure size 432x288 with 1 Axes>"
      ]
     },
     "metadata": {
      "needs_background": "light"
     }
    },
    {
     "output_type": "stream",
     "name": "stdout",
     "text": [
      "0.4692\n"
     ]
    }
   ],
   "metadata": {}
  },
  {
   "cell_type": "code",
   "execution_count": 2,
   "source": [
    "#Take into consideration that normed parameter was deprecated in the last version of plotmatlib so you may use density instead."
   ],
   "outputs": [],
   "metadata": {}
  }
 ],
 "nbformat": 4,
 "nbformat_minor": 2,
 "metadata": {
  "language_info": {
   "codemirror_mode": {
    "name": "ipython",
    "version": 3
   },
   "file_extension": ".py",
   "mimetype": "text/x-python",
   "name": "python",
   "nbconvert_exporter": "python",
   "pygments_lexer": "ipython3",
   "version": 3
  },
  "orig_nbformat": 4
 }
}