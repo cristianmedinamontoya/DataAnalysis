{
 "cells": [
  {
   "cell_type": "code",
   "execution_count": 5,
   "source": [
    "import numpy as np\n",
    "\n",
    "temperatures = np.genfromtxt('temperature_data.csv', delimiter = ',')\n",
    "\n",
    "\n",
    "temperatures_fixed = temperatures + 3\n",
    "print(\"  \")\n",
    "print(temperatures_fixed)\n",
    "\n",
    "monday_temperatures = temperatures_fixed[0, 0:4]\n",
    "print(\"  \")\n",
    "print(monday_temperatures)\n",
    "\n",
    "thursday_friday_morning = temperatures_fixed[3:5, 1]\n",
    "print(\"  \")\n",
    "print(thursday_friday_morning)\n",
    "\n",
    "\n",
    "temperature_50 = temperatures_fixed[(temperatures_fixed < 50)]\n",
    "temperature_60 = temperatures_fixed[(temperatures_fixed > 60)]\n",
    "\n",
    "print(\"  \")\n",
    "\n",
    "print(temperature_50)\n",
    "print(\"  \")\n",
    "print(temperature_60)\n",
    "print(\"  \")\n",
    "temperature_extremes = temperatures_fixed[(temperatures_fixed < 50) | (temperatures_fixed > 60)]\n",
    "print(temperature_extremes)"
   ],
   "outputs": [
    {
     "output_type": "stream",
     "name": "stdout",
     "text": [
      "  \n",
      "[[46.6 48.1 61.8 56. ]\n",
      " [50.  47.5 61.3 55.6]\n",
      " [49.7 47.2 60.9 55.2]\n",
      " [49.5 47.1 60.6 54.9]\n",
      " [49.2 46.9 60.2 54.5]]\n",
      "  \n",
      "[46.6 48.1 61.8 56. ]\n",
      "  \n",
      "[47.1 46.9]\n",
      "  \n",
      "[46.6 48.1 47.5 49.7 47.2 49.5 47.1 49.2 46.9]\n",
      "  \n",
      "[61.8 61.3 60.9 60.6 60.2]\n",
      "  \n",
      "[46.6 48.1 61.8 47.5 61.3 49.7 47.2 60.9 49.5 47.1 60.6 49.2 46.9 60.2]\n"
     ]
    }
   ],
   "metadata": {}
  }
 ],
 "nbformat": 4,
 "nbformat_minor": 2,
 "metadata": {
  "language_info": {
   "codemirror_mode": {
    "name": "ipython",
    "version": 3
   },
   "file_extension": ".py",
   "mimetype": "text/x-python",
   "name": "python",
   "nbconvert_exporter": "python",
   "pygments_lexer": "ipython3",
   "version": 3
  },
  "orig_nbformat": 4
 }
}