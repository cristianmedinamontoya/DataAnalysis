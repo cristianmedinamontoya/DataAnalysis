{
 "cells": [
  {
   "cell_type": "code",
   "execution_count": 1,
   "source": [
    "#While the mean and median can tell us about the center of our data, they do not reflect the range of the data. That’s where standard deviation comes in.\n",
    "\n",
    "#Similar to the interquartile range, the standard deviation tells us the spread of the data. The larger the standard deviation, \n",
    "# the more spread out our data is from the center. The smaller the standard deviation, the more the data is clustered around the mean.\n",
    "\n",
    "import numpy as np\n",
    "\n",
    "pumpkin = np.array([68, 1820, 1420, 2062, 704, 1156, 1857, 1755, 2092, 1384])\n",
    "\n",
    "acorn_squash = np.array([20, 43, 99, 200, 12, 250, 58, 120, 230, 215])\n",
    "\n",
    "pumpkin_avg = np.mean(pumpkin)\n",
    "\n",
    "acorn_squash_avg = np.mean(acorn_squash)\n",
    "\n",
    "pumpkin_std = np.std(pumpkin)\n",
    "acorn_squash_std = np.std(acorn_squash)\n",
    "\n",
    "print(pumpkin_std)\n",
    "print(acorn_squash_std)\n",
    "\n",
    "winner = pumpkin"
   ],
   "outputs": [
    {
     "output_type": "stream",
     "name": "stdout",
     "text": [
      "611.3183785884406\n",
      "87.22505374031019\n"
     ]
    }
   ],
   "metadata": {}
  }
 ],
 "nbformat": 4,
 "nbformat_minor": 2,
 "metadata": {
  "language_info": {
   "codemirror_mode": {
    "name": "ipython",
    "version": 3
   },
   "file_extension": ".py",
   "mimetype": "text/x-python",
   "name": "python",
   "nbconvert_exporter": "python",
   "pygments_lexer": "ipython3",
   "version": 3
  },
  "orig_nbformat": 4
 }
}