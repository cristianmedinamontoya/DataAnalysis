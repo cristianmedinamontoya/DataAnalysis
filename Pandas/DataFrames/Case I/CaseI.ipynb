{
 "cells": [
  {
   "cell_type": "code",
   "execution_count": 1,
   "source": [
    "import pandas as pd\n",
    "\n",
    "orders = pd.read_csv('orders.csv')\n",
    "print(orders)\n",
    "print('\\n')\n",
    "products = pd.read_csv('products.csv')\n",
    "print(products)\n",
    "print('\\n')\n",
    "orders_products = pd.merge(orders, products,\\\n",
    "     left_on='product_id', right_on='id', suffixes=['_ordersabc','_products123']\n",
    ")\n",
    "\n",
    "print(orders_products)"
   ],
   "outputs": [
    {
     "output_type": "stream",
     "name": "stdout",
     "text": [
      "   id  product_id  customer_id  quantity   timestamp\n",
      "0   1           3            2         1  2017-01-01\n",
      "1   2           2            2         3  2017-01-01\n",
      "2   3           1            3         1  2017-01-01\n",
      "3   4           2            3         2  2016-02-01\n",
      "4   5           3            3         3  2017-02-01\n",
      "5   6           4            1         2  2017-03-01\n",
      "6   7           1            1         1  2017-02-02\n",
      "7   8           4            1         1  2017-02-02\n",
      "\n",
      "\n",
      "   id         description  price\n",
      "0   1      thing-a-ma-jig      5\n",
      "1   2  whatcha-ma-call-it     10\n",
      "2   3          doo-hickey      7\n",
      "3   4               gizmo      3\n",
      "\n",
      "\n",
      "   id_ordersabc  product_id  customer_id  quantity   timestamp  \\\n",
      "0             1           3            2         1  2017-01-01   \n",
      "1             5           3            3         3  2017-02-01   \n",
      "2             2           2            2         3  2017-01-01   \n",
      "3             4           2            3         2  2016-02-01   \n",
      "4             3           1            3         1  2017-01-01   \n",
      "5             7           1            1         1  2017-02-02   \n",
      "6             6           4            1         2  2017-03-01   \n",
      "7             8           4            1         1  2017-02-02   \n",
      "\n",
      "   id_products123         description  price  \n",
      "0               3          doo-hickey      7  \n",
      "1               3          doo-hickey      7  \n",
      "2               2  whatcha-ma-call-it     10  \n",
      "3               2  whatcha-ma-call-it     10  \n",
      "4               1      thing-a-ma-jig      5  \n",
      "5               1      thing-a-ma-jig      5  \n",
      "6               4               gizmo      3  \n",
      "7               4               gizmo      3  \n"
     ]
    }
   ],
   "metadata": {}
  }
 ],
 "nbformat": 4,
 "nbformat_minor": 2,
 "metadata": {
  "language_info": {
   "codemirror_mode": {
    "name": "ipython",
    "version": 3
   },
   "file_extension": ".py",
   "mimetype": "text/x-python",
   "name": "python",
   "nbconvert_exporter": "python",
   "pygments_lexer": "ipython3",
   "version": 3
  },
  "orig_nbformat": 4
 }
}