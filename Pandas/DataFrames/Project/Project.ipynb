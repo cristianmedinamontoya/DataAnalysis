{
 "cells": [
  {
   "cell_type": "code",
   "execution_count": 1,
   "metadata": {},
   "outputs": [
    {
     "name": "stdout",
     "output_type": "stream",
     "text": [
      "% of user who got to checkout but did not purchase: 0.24550898203592814\n",
      "82.6 percent of users who visited the page did not add a t-shirt to their cart\n",
      "35.06 percent of users who added a t-shirt to their cart did not checkout\n",
      "24.55 percent of users who made it to checkout  did not purchase a shirt\n",
      "\n",
      "\n",
      "0 days 00:43:12.380952380\n"
     ]
    }
   ],
   "source": [
    "import pandas as pd\n",
    "\n",
    "visits = pd.read_csv('visits.csv',\n",
    "                     parse_dates=[1])\n",
    "cart = pd.read_csv('cart.csv',\n",
    "                   parse_dates=[1])\n",
    "checkout = pd.read_csv('checkout.csv',\n",
    "                       parse_dates=[1])\n",
    "purchase = pd.read_csv('purchase.csv',\n",
    "                       parse_dates=[1])\n",
    "\n",
    "visits_cart = pd.merge(visits, cart, how='left')\n",
    "# print(visits_cart)\n",
    "# print(len(visits_cart))\n",
    "# Resultado print(len(visits_cart)) = 2000\n",
    "\n",
    "#Case visits but not adding anything to the shopping cart\n",
    "visits_cart['Count_cart_time'] = ~visits_cart.cart_time.isnull()\n",
    "    # I used the code commented below:\n",
    "    # ad_clicks['is_click'] = ~ad_clicks.ad_click_timestamp.isnull()\n",
    "    # result = len(visits_cart[visits_cart.cart_time.isnull()])\n",
    "    # print(visits_cart)\n",
    "No_comprado = len(visits_cart[visits_cart.Count_cart_time == False])\n",
    "# print(No_comprado)\n",
    "Percent_No_comprado = (float(No_comprado)/float(len(visits_cart)))*100\n",
    "# print(Percent_No_comprado) - Que visitaron pero no agregaron un t-shit a ssu carrito\n",
    "#Resultado Percent_No_comprado = 82.6%\n",
    "#Case visits, adding to shopping cart but not checking out\n",
    "cart_checkout = pd.merge(cart, checkout, how ='left')\n",
    "# print(cart_checkout)\n",
    "cart_checkout['Count_cart_checkout_time'] = ~cart_checkout.checkout_time.isnull()\n",
    "# print(cart_checkout)\n",
    "No_checkout = len(cart_checkout[cart_checkout.Count_cart_checkout_time == False])\n",
    "# print(No_checkout)\n",
    "Percent_No_checkout = (float(No_checkout)/float(len(cart)))*100\n",
    "# print(len(cart))\n",
    "# print(Percent_No_checkout)\n",
    "#ALWAYS CHECK THE DB WHEN THE CODE IS PERFECTLY WELL CODED\n",
    "data_all = visits_cart.merge(cart_checkout, how = 'left').merge(purchase, how = 'left')\n",
    "# print(data_all.head(5))\n",
    "\n",
    "reached_checkout = data_all[~data_all.checkout_time.isnull()]\n",
    "# print(reached_checkout.head(5))\n",
    "# checkout_not_purchase = data_all[(data_all.purchase_time.isnull()) & (~data_all.checkout_time.isnull())]\n",
    "checkout_not_purchase =data_all[(data_all.purchase_time.isnull()) & (~data_all.checkout_time.isnull())]\n",
    "checkout_not_purchase_percent = float(len(checkout_not_purchase))/float(len(reached_checkout))\n",
    "print('% of user who got to checkout but did not purchase:', checkout_not_purchase_percent)\n",
    "\n",
    "\n",
    "print(\"{} percent of users who visited the page did not add a t-shirt to their cart\".format(round(Percent_No_comprado, 2)))\n",
    "print(\"{} percent of users who added a t-shirt to their cart did not checkout\".format(round(Percent_No_checkout, 2)))\n",
    "print(\"{} percent of users who made it to checkout  did not purchase a shirt\".format(round( checkout_not_purchase_percent*100, 2)))\n",
    "\n",
    "\n",
    "data_all['time_to_purchase'] =  data_all.purchase_time - data_all.visit_time\n",
    "# print(data_all.time_to_purchase)\n",
    "print('\\n')\n",
    "print(data_all.time_to_purchase.mean())\n"
   ]
  }
 ],
 "metadata": {
  "kernelspec": {
   "display_name": "Python 3",
   "language": "python",
   "name": "python3"
  },
  "language_info": {
   "codemirror_mode": {
    "name": "ipython",
    "version": 3
   },
   "file_extension": ".py",
   "mimetype": "text/x-python",
   "name": "python",
   "nbconvert_exporter": "python",
   "pygments_lexer": "ipython3",
   "version": "3.9.6"
  },
  "orig_nbformat": 4
 },
 "nbformat": 4,
 "nbformat_minor": 2
}
